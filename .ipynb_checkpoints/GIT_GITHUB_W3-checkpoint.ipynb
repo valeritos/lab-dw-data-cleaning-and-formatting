{
 "cells": [
  {
   "cell_type": "markdown",
   "id": "a27c74ee",
   "metadata": {},
   "source": [
    "Whenever we create repositories using GIT, any changes we make are checkpoints\n",
    "<br>\n",
    "Init GIT -making changes -> commit (created a checkpoint) -changes -> commit (another checkpoint)\n",
    "<br>\n",
    "GIT log to see all checkpoints and undo unnecessary changes\n",
    "<br>\n",
    "That's why GIT is a version control system\n",
    "<br>\n",
    "Commit notes have address that can be referred to (check out)\n"
   ]
  },
  {
   "cell_type": "markdown",
   "id": "7c69dad3",
   "metadata": {},
   "source": [
    "Repository on GITHUB - master branch\n",
    "<br>\n",
    "Clone that repo into a local repo. Creating branches stemming off master branch, copying the code and testing new features on it. Keep testing without affecting the master branch\n",
    "<br>\n",
    "Another collaborator can create parallel branch - this means that we can work simultaneously without changing the master branch, keeping original version intact\n",
    "<br>\n",
    "When you want to save your changes, you merge that code to the master branch"
   ]
  },
  {
   "cell_type": "markdown",
   "id": "01ff73e3",
   "metadata": {},
   "source": [
    "Before merging, no changes on side branches will be visible on the master branch"
   ]
  },
  {
   "cell_type": "markdown",
   "id": "1836705e",
   "metadata": {},
   "source": [
    "In order to get rid of side branches, even after merge, we have to delete them"
   ]
  },
  {
   "cell_type": "markdown",
   "id": "034a742b",
   "metadata": {},
   "source": [
    "Fork is creating a copy of the script pushed to GIT by the owner of repo. After working on the code in a fork, a developer will do a pull request to the original creator to see if they like and want to implement the changes. GIT will highlight affected areas. If pull request is accepted by the owner of the repository, fork is merged into a single one. Repo owner can deny pull request"
   ]
  },
  {
   "cell_type": "code",
   "execution_count": null,
   "id": "ac3a9026",
   "metadata": {},
   "outputs": [],
   "source": []
  }
 ],
 "metadata": {
  "kernelspec": {
   "display_name": "Python 3 (ipykernel)",
   "language": "python",
   "name": "python3"
  },
  "language_info": {
   "codemirror_mode": {
    "name": "ipython",
    "version": 3
   },
   "file_extension": ".py",
   "mimetype": "text/x-python",
   "name": "python",
   "nbconvert_exporter": "python",
   "pygments_lexer": "ipython3",
   "version": "3.11.4"
  }
 },
 "nbformat": 4,
 "nbformat_minor": 5
}
